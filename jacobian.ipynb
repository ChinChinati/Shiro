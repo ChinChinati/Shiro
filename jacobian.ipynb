{
 "cells": [
  {
   "cell_type": "code",
   "execution_count": 16,
   "metadata": {},
   "outputs": [],
   "source": [
    "from sympy import *\n",
    "from sympy.physics.mechanics import *\n",
    "import numpy as np"
   ]
  },
  {
   "cell_type": "code",
   "execution_count": 17,
   "metadata": {},
   "outputs": [],
   "source": [
    "q1, q2, q3 = dynamicsymbols('q_1 q_2 q_3')\n",
    "l1, l2, l3 = symbols('l1 l2 l3')\n",
    "T1, T2, T3 = symbols('T1 T2 T3')\n",
    "mechanics_printing(pretty_print=True)\n",
    "J1 = Matrix([[-sin(q1)* (l3*cos(q2+q3) + l2*cos(q2))],\n",
    "            [cos(q1)* (l3*cos(q2 + q3) + l2*cos(q2))],\n",
    "            [0]\n",
    "        ])\n",
    "\n",
    "J2 = Matrix([[-cos(q1)*(l3*sin(q2 + q3) + l2*sin(q2))],\n",
    "            [-sin(q1)*(l3*sin(q2 + q3) + l2*sin(q2))],\n",
    "            [l3*cos(q2 + q3) + l2*cos(q2)]\n",
    "        ])\n",
    "J3 = Matrix([[-l3*sin(q2 + q3)*cos(q1)],\n",
    "            [-l3*sin(q2 + q3)*sin(q1)],\n",
    "            [l3*cos(q2 + q3)]\n",
    "        ])\n",
    "\n",
    "J = Matrix([[J1, J2, J3]])\n",
    "J1 = Inverse(J)\n",
    "T = Matrix([T1,T2,T3])\n",
    "F = J1*T"
   ]
  },
  {
   "cell_type": "code",
   "execution_count": 28,
   "metadata": {},
   "outputs": [
    {
     "data": {
      "image/png": "[encoded data removed]",
      "text/latex": [
       "$\\displaystyle 8.95642751977538$"
      ],
      "text/plain": [
       "8.95642751977538"
      ]
     },
     "execution_count": 28,
     "metadata": {},
     "output_type": "execute_result"
    }
   ],
   "source": [
    "F = F.subs({T1:0,\n",
    "        T2:20,\n",
    "        T3:20,\n",
    "        q1:0,\n",
    "        q2:3.14/4,\n",
    "        q3:3.14/4,\n",
    "        l1:0,\n",
    "        l2:7,\n",
    "        l3:7})\n",
    "sqrt(F[0]*F[0] + F[1]*F[1] + F[2]*F[2])\n"
   ]
  }
 ],
 "metadata": {
  "kernelspec": {
   "display_name": "Python 3",
   "language": "python",
   "name": "python3"
  },
  "language_info": {
   "codemirror_mode": {
    "name": "ipython",
    "version": 3
   },
   "file_extension": ".py",
   "mimetype": "text/x-python",
   "name": "python",
   "nbconvert_exporter": "python",
   "pygments_lexer": "ipython3",
   "version": "3.8.18"
  }
 },
 "nbformat": 4,
 "nbformat_minor": 2
}

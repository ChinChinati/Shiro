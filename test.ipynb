{
 "cells": [
  {
   "cell_type": "code",
   "execution_count": 1,
   "metadata": {},
   "outputs": [
    {
     "name": "stdout",
     "output_type": "stream",
     "text": [
      "Listening for connections on IP = 172.17.104.180 at PORT = 8000\n",
      "pygame 2.5.2 (SDL 2.28.2, Python 3.8.10)\n",
      "Hello from the pygame community. https://www.pygame.org/contribute.html\n"
     ]
    }
   ],
   "source": [
    "from doggy import Doggy\n",
    "import pygame\n",
    "from time import *\n",
    "shiro = Doggy()\n",
    "import pygame"
   ]
  },
  {
   "cell_type": "code",
   "execution_count": 2,
   "metadata": {},
   "outputs": [
    {
     "name": "stdout",
     "output_type": "stream",
     "text": [
      "Succeeded to change the baudrate\n",
      "Succeeded to open the port\n",
      "[1, 2, 3, 4, 5, 6, 7, 8, 9, 10, 11, 12]\n",
      "Connection successful\n",
      "Dynamixel#1 has been successfully connected\n",
      "Dynamixel#2 has been successfully connected\n",
      "Dynamixel#3 has been successfully connected\n",
      "Dynamixel#4 has been successfully connected\n",
      "Dynamixel#5 has been successfully connected\n",
      "Dynamixel#6 has been successfully connected\n",
      "Dynamixel#7 has been successfully connected\n",
      "Dynamixel#8 has been successfully connected\n",
      "Dynamixel#9 has been successfully connected\n",
      "Dynamixel#10 has been successfully connected\n",
      "Dynamixel#11 has been successfully connected\n",
      "Dynamixel#12 has been successfully connected\n"
     ]
    }
   ],
   "source": [
    "shiro.connect()\n",
    "shiro.pid(1500,800,500)#better\n",
    "# shiro.pid(300,500,100)#worse\n",
    "shiro.enable_torque()\n",
    "shiro.set_time(2000)\n",
    "\n",
    "# #stand\n",
    "i = 250\n",
    "shiro.move(\n",
    "        shiro.move_xyz([0, 0, 240.29325, 0, 0, 251.17325, 0, 0, 253.20225, 0, 0, 249.33125]))\n",
    "# shiro.set_time(2000)\n",
    "# shiro.sit()"
   ]
  },
  {
   "cell_type": "code",
   "execution_count": 3,
   "metadata": {},
   "outputs": [
    {
     "name": "stdout",
     "output_type": "stream",
     "text": [
      "Dynamixel#1 has been successfully connected\n",
      "Dynamixel#2 has been successfully connected\n",
      "Dynamixel#3 has been successfully connected\n",
      "Dynamixel#4 has been successfully connected\n",
      "Dynamixel#5 has been successfully connected\n",
      "Dynamixel#6 has been successfully connected\n",
      "Dynamixel#7 has been successfully connected\n",
      "Dynamixel#8 has been successfully connected\n",
      "Dynamixel#9 has been successfully connected\n",
      "Dynamixel#10 has been successfully connected\n",
      "Dynamixel#11 has been successfully connected\n",
      "Dynamixel#12 has been successfully connected\n"
     ]
    },
    {
     "name": "stdout",
     "output_type": "stream",
     "text": [
      "Accepted new connection from 172.17.106.124:62305, username: cdas\n",
      "Received message from cdas: 5\n",
      "Received message from cdas: 0\n",
      "Received message from cdas: .\n",
      "Received message from cdas: 8\n",
      "Received message from cdas: 6\n",
      "Received message from cdas: 4\n",
      "Closed connection from: cdas\n"
     ]
    },
    {
     "ename": "KeyboardInterrupt",
     "evalue": "",
     "output_type": "error",
     "traceback": [
      "\u001b[0;31m---------------------------------------------------------------------------\u001b[0m",
      "\u001b[0;31mKeyboardInterrupt\u001b[0m                         Traceback (most recent call last)",
      "Cell \u001b[0;32mIn[3], line 1\u001b[0m\n\u001b[0;32m----> 1\u001b[0m \u001b[43mshiro\u001b[49m\u001b[38;5;241;43m.\u001b[39;49m\u001b[43mcontroller\u001b[49m\u001b[43m(\u001b[49m\u001b[43m)\u001b[49m\n",
      "File \u001b[0;32m~/Shiro/doggy.py:660\u001b[0m, in \u001b[0;36mDoggy.controller\u001b[0;34m(self, walkingHeight, step_time, step_length, step_height, tilt)\u001b[0m\n\u001b[1;32m    658\u001b[0m     time_changed \u001b[38;5;241m=\u001b[39m \u001b[38;5;241m0\u001b[39m\n\u001b[1;32m    659\u001b[0m     \u001b[38;5;28mself\u001b[39m\u001b[38;5;241m.\u001b[39mMODE \u001b[38;5;241m=\u001b[39m \u001b[38;5;241m4\u001b[39m\n\u001b[0;32m--> 660\u001b[0m \u001b[38;5;28;01melif\u001b[39;00m \u001b[38;5;28;43mself\u001b[39;49m\u001b[38;5;241;43m.\u001b[39;49m\u001b[43mMODE\u001b[49m \u001b[38;5;241m==\u001b[39m \u001b[38;5;241m2\u001b[39m:\n\u001b[1;32m    661\u001b[0m     \u001b[38;5;28;01mif\u001b[39;00m \u001b[38;5;28mself\u001b[39m\u001b[38;5;241m.\u001b[39mMOVEMENT \u001b[38;5;241m==\u001b[39m \u001b[38;5;241m1\u001b[39m:\n\u001b[1;32m    662\u001b[0m         x1,y1,z1 \u001b[38;5;241m=\u001b[39m trajectory(t\u001b[38;5;241m+\u001b[39m\u001b[38;5;241m2\u001b[39m)\n",
      "\u001b[0;31mKeyboardInterrupt\u001b[0m: "
     ]
    }
   ],
   "source": [
    "shiro.controller()"
   ]
  },
  {
   "cell_type": "code",
   "execution_count": null,
   "metadata": {},
   "outputs": [],
   "source": [
    "shiro.set_time(300)\n",
    "r_x1,r_y1,r_z1,r_x2,r_y2,r_z2,r_x3,r_y3,r_z3,r_x4,r_y4,r_z4 = shiro.rotation(0,-10,0)\n",
    "offset_z = 275\n",
    "shiro.move(shiro.move_xyz([+r_x1,   +r_y1,  offset_z+r_z1,\n",
    "                +r_x2,   +r_y2,   offset_z+r_z2,\n",
    "                +r_x3,   +r_y3,   offset_z+r_z3,\n",
    "                +r_x4,   +r_y4,   offset_z+r_z4]))"
   ]
  },
  {
   "cell_type": "code",
   "execution_count": null,
   "metadata": {},
   "outputs": [],
   "source": [
    "shiro.sit()\n",
    "shiro.disable_torque()"
   ]
  },
  {
   "cell_type": "code",
   "execution_count": null,
   "metadata": {},
   "outputs": [],
   "source": [
    "shiro.walk_trot(10,step_time=200,walkingHeight=300,step_length=0)"
   ]
  },
  {
   "cell_type": "code",
   "execution_count": null,
   "metadata": {},
   "outputs": [],
   "source": [
    "shiro.walk_beta(25,step_time=700,tilt=10)"
   ]
  },
  {
   "cell_type": "code",
   "execution_count": null,
   "metadata": {},
   "outputs": [],
   "source": [
    "shiro.walk(20,step_time=500,step_length=50)"
   ]
  },
  {
   "cell_type": "code",
   "execution_count": null,
   "metadata": {},
   "outputs": [],
   "source": [
    "from pynput import keyboard\n",
    "\n",
    "def on_press(key):\n",
    "    try:\n",
    "        print('alphanumeric key {0} pressed'.format(\n",
    "            key.char))\n",
    "    except AttributeError:\n",
    "        print('special key {0} pressed'.format(\n",
    "            key))\n",
    "\n",
    "def on_release(key):\n",
    "    print('{0} released'.format(\n",
    "        key))\n",
    "    if key == keyboard.Key.esc:\n",
    "        # Stop listener\n",
    "        return False\n",
    "\n",
    "# ...or, in a non-blocking fashion:\n",
    "listener = keyboard.Listener(\n",
    "    on_press=on_press,\n",
    "    on_release=on_release)\n",
    "listener.start()\n",
    "        "
   ]
  },
  {
   "cell_type": "code",
   "execution_count": null,
   "metadata": {},
   "outputs": [],
   "source": [
    "from pynput import keyboard\n",
    "import time\n",
    "MODE = 0 # sitting = 0\n",
    "         # standing = 1\n",
    "         # straffing = 2\n",
    "         \n",
    "MOVEMENT = 0 # still = 0\n",
    "             # forward = 1\n",
    "             # backward = 2\n",
    "             # left = 3\n",
    "             # right = 4\n",
    "\n",
    "ESC = 0\n",
    "def on_press(key):\n",
    "    global MODE,MOVEMENT\n",
    "    try:\n",
    "        if key.char == '0':\n",
    "            MODE = 0\n",
    "            MOVEMENT = 0\n",
    "        elif key.char == None:\n",
    "            MODE = 1\n",
    "            MOVEMENT = 0\n",
    "        elif key == keyboard.Key.enter:\n",
    "            MODE = 2\n",
    "            MOVEMENT = 0\n",
    "        elif key.char == '8':\n",
    "            MODE = 2\n",
    "            MOVEMENT = 1\n",
    "        elif key.char == '2':\n",
    "            MODE = 2\n",
    "            MOVEMENT = 2\n",
    "        elif key.char == '4':\n",
    "            MODE = 2\n",
    "            MOVEMENT = 3\n",
    "        elif key.char == '6':\n",
    "            MODE = 2\n",
    "            MOVEMENT = 4\n",
    "        else:\n",
    "            MOVEMENT = 0\n",
    "    except AttributeError:\n",
    "        print('special key {0} pressed'.format(\n",
    "            key))\n",
    "    \n",
    "def on_release(key):\n",
    "    global ESC\n",
    "    if key == keyboard.Key.esc:\n",
    "        print(\"Listner STOPPED!\")\n",
    "        ESC = 1\n",
    "        return False\n",
    "\n",
    "# ...or, in a non-blocking fashion:\n",
    "listener = keyboard.Listener(\n",
    "    on_press=on_press,\n",
    "    on_release=on_release)\n",
    "listener.start()\n",
    "\n",
    "while not ESC:\n",
    "    print(MODE)\n",
    "    time.sleep(1)"
   ]
  }
 ],
 "metadata": {
  "kernelspec": {
   "display_name": "Python 3",
   "language": "python",
   "name": "python3"
  },
  "language_info": {
   "codemirror_mode": {
    "name": "ipython",
    "version": 3
   },
   "file_extension": ".py",
   "mimetype": "text/x-python",
   "name": "python",
   "nbconvert_exporter": "python",
   "pygments_lexer": "ipython3",
   "version": "3.8.10"
  },
  "orig_nbformat": 4
 },
 "nbformat": 4,
 "nbformat_minor": 2
}

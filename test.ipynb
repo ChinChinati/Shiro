{
 "cells": [
  {
   "cell_type": "code",
   "execution_count": 2,
   "metadata": {},
   "outputs": [
    {
     "name": "stdout",
     "output_type": "stream",
     "text": [
      "Succeeded to change the baudrate\n",
      "Succeeded to open the port\n",
      "[1, 2, 3, 4, 5, 6, 7, 8, 9, 10, 11, 12]\n",
      "Connection successful\n",
      "Dynamixel#1 has been successfully connected\n",
      "Dynamixel#2 has been successfully connected\n",
      "Dynamixel#3 has been successfully connected\n",
      "Dynamixel#4 has been successfully connected\n",
      "Dynamixel#5 has been successfully connected\n",
      "Dynamixel#6 has been successfully connected\n",
      "Dynamixel#7 has been successfully connected\n",
      "Dynamixel#8 has been successfully connected\n",
      "Dynamixel#9 has been successfully connected\n",
      "Dynamixel#10 has been successfully connected\n",
      "Dynamixel#11 has been successfully connected\n",
      "Dynamixel#12 has been successfully connected\n"
     ]
    }
   ],
   "source": [
    "from doggy import Doggy\n",
    "import pygame\n",
    "from time import *\n",
    "shiro = Doggy()\n",
    "import pygame\n",
    "\n",
    "shiro.connect()\n",
    "shiro.pid(1500,800,500)#better\n",
    "# shiro.pid(300,500,100)#worse\n",
    "shiro.enable_torque()\n",
    "shiro.set_time(2000)\n",
    "\n",
    "# #stand\n",
    "i = 250\n",
    "shiro.move(\n",
    "        shiro.move_xyz([0, 0, 240.29325, 0, 0, 251.17325, 0, 0, 253.20225, 0, 0, 249.33125]))\n",
    "# shiro.set_time(2000)\n",
    "# shiro.sit()"
   ]
  },
  {
   "cell_type": "code",
   "execution_count": 3,
   "metadata": {},
   "outputs": [
    {
     "name": "stdout",
     "output_type": "stream",
     "text": [
      "Dynamixel#1 has been successfully connected\n",
      "Dynamixel#2 has been successfully connected\n",
      "Dynamixel#3 has been successfully connected\n",
      "Dynamixel#4 has been successfully connected\n",
      "Dynamixel#5 has been successfully connected\n",
      "Dynamixel#6 has been successfully connected\n",
      "Dynamixel#7 has been successfully connected\n",
      "Dynamixel#8 has been successfully connected\n",
      "Dynamixel#9 has been successfully connected\n",
      "Dynamixel#10 has been successfully connected\n",
      "Dynamixel#11 has been successfully connected\n",
      "Dynamixel#12 has been successfully connected\n",
      "Angle 3 exceeded limit\n",
      "Angle 6 exceeded limit\n",
      "Angle 9 exceeded limit\n",
      "Angle 12 exceeded limit\n",
      "special key Key.space pressed\n"
     ]
    },
    {
     "ename": "error",
     "evalue": "(5, 'Input/output error')",
     "output_type": "error",
     "traceback": [
      "\u001b[0;31m---------------------------------------------------------------------------\u001b[0m",
      "\u001b[0;31merror\u001b[0m                                     Traceback (most recent call last)",
      "Cell \u001b[0;32mIn[3], line 1\u001b[0m\n\u001b[0;32m----> 1\u001b[0m \u001b[43mshiro\u001b[49m\u001b[38;5;241;43m.\u001b[39;49m\u001b[43mcontroller\u001b[49m\u001b[43m(\u001b[49m\u001b[43m)\u001b[49m\n",
      "File \u001b[0;32m~/Desktop/PROJECTS/Shiro/doggy.py:503\u001b[0m, in \u001b[0;36mDoggy.controller\u001b[0;34m(self, walkingHeight, step_time, step_length, step_height, tilt)\u001b[0m\n\u001b[1;32m    500\u001b[0m \u001b[38;5;28;01mwhile\u001b[39;00m \u001b[38;5;129;01mnot\u001b[39;00m \u001b[38;5;28mself\u001b[39m\u001b[38;5;241m.\u001b[39mESC:\n\u001b[1;32m    501\u001b[0m     \u001b[38;5;66;03m# print(self.MODE)\u001b[39;00m\n\u001b[1;32m    502\u001b[0m     \u001b[38;5;28;01mif\u001b[39;00m \u001b[38;5;28mself\u001b[39m\u001b[38;5;241m.\u001b[39mMODE \u001b[38;5;241m==\u001b[39m \u001b[38;5;241m0\u001b[39m:\n\u001b[0;32m--> 503\u001b[0m         \u001b[38;5;28;43mself\u001b[39;49m\u001b[38;5;241;43m.\u001b[39;49m\u001b[43msit\u001b[49m\u001b[43m(\u001b[49m\u001b[43m)\u001b[49m\n\u001b[1;32m    504\u001b[0m         time_changed \u001b[38;5;241m=\u001b[39m \u001b[38;5;241m0\u001b[39m\n\u001b[1;32m    505\u001b[0m         \u001b[38;5;28mself\u001b[39m\u001b[38;5;241m.\u001b[39mMODE \u001b[38;5;241m=\u001b[39m \u001b[38;5;241m4\u001b[39m\n",
      "File \u001b[0;32m~/Desktop/PROJECTS/Shiro/doggy.py:251\u001b[0m, in \u001b[0;36mDoggy.sit\u001b[0;34m(self)\u001b[0m\n\u001b[1;32m    250\u001b[0m \u001b[38;5;28;01mdef\u001b[39;00m \u001b[38;5;21msit\u001b[39m(\u001b[38;5;28mself\u001b[39m):\n\u001b[0;32m--> 251\u001b[0m     \u001b[38;5;28;43mself\u001b[39;49m\u001b[38;5;241;43m.\u001b[39;49m\u001b[43mset_time\u001b[49m\u001b[43m(\u001b[49m\u001b[38;5;241;43m3000\u001b[39;49m\u001b[43m)\u001b[49m\n\u001b[1;32m    252\u001b[0m     \u001b[38;5;28mself\u001b[39m\u001b[38;5;241m.\u001b[39mmove(REST)\n",
      "File \u001b[0;32m~/Desktop/PROJECTS/Shiro/doggy.py:218\u001b[0m, in \u001b[0;36mDoggy.set_time\u001b[0;34m(self, time)\u001b[0m\n\u001b[1;32m    216\u001b[0m \u001b[38;5;28;01mdef\u001b[39;00m \u001b[38;5;21mset_time\u001b[39m(\u001b[38;5;28mself\u001b[39m, time):\n\u001b[1;32m    217\u001b[0m     \u001b[38;5;66;03m# self.motor.drive_mode_time_based_profile(motors)\u001b[39;00m\n\u001b[0;32m--> 218\u001b[0m     \u001b[38;5;28;43mself\u001b[39;49m\u001b[38;5;241;43m.\u001b[39;49m\u001b[43mmotor\u001b[49m\u001b[38;5;241;43m.\u001b[39;49m\u001b[43mprofile_velocity\u001b[49m\u001b[43m(\u001b[49m\u001b[38;5;28;43mdict\u001b[39;49m\u001b[43m(\u001b[49m\u001b[43mcommon_arr\u001b[49m\u001b[43m(\u001b[49m\u001b[43mtime\u001b[49m\u001b[43m)\u001b[49m\u001b[43m)\u001b[49m\u001b[43m)\u001b[49m\n",
      "File \u001b[0;32m~/Desktop/PROJECTS/Shiro/sync_motor.py:348\u001b[0m, in \u001b[0;36mMotor.profile_velocity\u001b[0;34m(self, dict)\u001b[0m\n\u001b[1;32m    345\u001b[0m \u001b[38;5;28;01mdef\u001b[39;00m \u001b[38;5;21mprofile_velocity\u001b[39m(\u001b[38;5;28mself\u001b[39m, \u001b[38;5;28mdict\u001b[39m):\n\u001b[1;32m    346\u001b[0m     \u001b[38;5;28;01mfor\u001b[39;00m \u001b[38;5;28mid\u001b[39m \u001b[38;5;129;01min\u001b[39;00m \u001b[38;5;28mdict\u001b[39m:\n\u001b[1;32m    347\u001b[0m     \u001b[38;5;66;03m# Set Dynamixel profile velocity\u001b[39;00m\n\u001b[0;32m--> 348\u001b[0m         dxl_comm_result, dxl_error \u001b[38;5;241m=\u001b[39m \u001b[38;5;28;43mself\u001b[39;49m\u001b[38;5;241;43m.\u001b[39;49m\u001b[43mpacketHandler\u001b[49m\u001b[38;5;241;43m.\u001b[39;49m\u001b[43mwrite4ByteTxRx\u001b[49m\u001b[43m(\u001b[49m\u001b[38;5;28;43mself\u001b[39;49m\u001b[38;5;241;43m.\u001b[39;49m\u001b[43mportHandler\u001b[49m\u001b[43m,\u001b[49m\u001b[43m \u001b[49m\u001b[38;5;28;43mint\u001b[39;49m\u001b[43m(\u001b[49m\u001b[38;5;28;43mid\u001b[39;49m\u001b[43m)\u001b[49m\u001b[43m,\u001b[49m\u001b[43m \u001b[49m\u001b[43mADDR_PROFIOLE_VELOCITY\u001b[49m\u001b[43m,\u001b[49m\u001b[43m \u001b[49m\u001b[38;5;28;43mdict\u001b[39;49m\u001b[43m[\u001b[49m\u001b[38;5;28;43mid\u001b[39;49m\u001b[43m]\u001b[49m\u001b[43m)\u001b[49m\n\u001b[1;32m    349\u001b[0m         \u001b[38;5;28;01mif\u001b[39;00m dxl_comm_result \u001b[38;5;241m!=\u001b[39m COMM_SUCCESS:\n\u001b[1;32m    350\u001b[0m             \u001b[38;5;28;01mcontinue\u001b[39;00m\n",
      "File \u001b[0;32m/usr/local/lib/python3.10/dist-packages/dynamixel_sdk-3.7.31-py3.10.egg/dynamixel_sdk/protocol2_packet_handler.py:675\u001b[0m, in \u001b[0;36mProtocol2PacketHandler.write4ByteTxRx\u001b[0;34m(self, port, dxl_id, address, data)\u001b[0m\n\u001b[1;32m    670\u001b[0m \u001b[38;5;28;01mdef\u001b[39;00m \u001b[38;5;21mwrite4ByteTxRx\u001b[39m(\u001b[38;5;28mself\u001b[39m, port, dxl_id, address, data):\n\u001b[1;32m    671\u001b[0m     data_write \u001b[38;5;241m=\u001b[39m [DXL_LOBYTE(DXL_LOWORD(data)),\n\u001b[1;32m    672\u001b[0m                   DXL_HIBYTE(DXL_LOWORD(data)),\n\u001b[1;32m    673\u001b[0m                   DXL_LOBYTE(DXL_HIWORD(data)),\n\u001b[1;32m    674\u001b[0m                   DXL_HIBYTE(DXL_HIWORD(data))]\n\u001b[0;32m--> 675\u001b[0m     \u001b[38;5;28;01mreturn\u001b[39;00m \u001b[38;5;28;43mself\u001b[39;49m\u001b[38;5;241;43m.\u001b[39;49m\u001b[43mwriteTxRx\u001b[49m\u001b[43m(\u001b[49m\u001b[43mport\u001b[49m\u001b[43m,\u001b[49m\u001b[43m \u001b[49m\u001b[43mdxl_id\u001b[49m\u001b[43m,\u001b[49m\u001b[43m \u001b[49m\u001b[43maddress\u001b[49m\u001b[43m,\u001b[49m\u001b[43m \u001b[49m\u001b[38;5;241;43m4\u001b[39;49m\u001b[43m,\u001b[49m\u001b[43m \u001b[49m\u001b[43mdata_write\u001b[49m\u001b[43m)\u001b[49m\n",
      "File \u001b[0;32m/usr/local/lib/python3.10/dist-packages/dynamixel_sdk-3.7.31-py3.10.egg/dynamixel_sdk/protocol2_packet_handler.py:643\u001b[0m, in \u001b[0;36mProtocol2PacketHandler.writeTxRx\u001b[0;34m(self, port, dxl_id, address, length, data)\u001b[0m\n\u001b[1;32m    640\u001b[0m txpacket[PKT_PARAMETER0 \u001b[38;5;241m+\u001b[39m \u001b[38;5;241m1\u001b[39m] \u001b[38;5;241m=\u001b[39m DXL_HIBYTE(address)\n\u001b[1;32m    642\u001b[0m txpacket[PKT_PARAMETER0 \u001b[38;5;241m+\u001b[39m \u001b[38;5;241m2\u001b[39m: PKT_PARAMETER0 \u001b[38;5;241m+\u001b[39m \u001b[38;5;241m2\u001b[39m \u001b[38;5;241m+\u001b[39m length] \u001b[38;5;241m=\u001b[39m data[\u001b[38;5;241m0\u001b[39m: length]\n\u001b[0;32m--> 643\u001b[0m rxpacket, result, error \u001b[38;5;241m=\u001b[39m \u001b[38;5;28;43mself\u001b[39;49m\u001b[38;5;241;43m.\u001b[39;49m\u001b[43mtxRxPacket\u001b[49m\u001b[43m(\u001b[49m\u001b[43mport\u001b[49m\u001b[43m,\u001b[49m\u001b[43m \u001b[49m\u001b[43mtxpacket\u001b[49m\u001b[43m)\u001b[49m\n\u001b[1;32m    645\u001b[0m \u001b[38;5;28;01mreturn\u001b[39;00m result, error\n",
      "File \u001b[0;32m/usr/local/lib/python3.10/dist-packages/dynamixel_sdk-3.7.31-py3.10.egg/dynamixel_sdk/protocol2_packet_handler.py:323\u001b[0m, in \u001b[0;36mProtocol2PacketHandler.txRxPacket\u001b[0;34m(self, port, txpacket)\u001b[0m\n\u001b[1;32m    320\u001b[0m error \u001b[38;5;241m=\u001b[39m \u001b[38;5;241m0\u001b[39m\n\u001b[1;32m    322\u001b[0m \u001b[38;5;66;03m# tx packet\u001b[39;00m\n\u001b[0;32m--> 323\u001b[0m result \u001b[38;5;241m=\u001b[39m \u001b[38;5;28;43mself\u001b[39;49m\u001b[38;5;241;43m.\u001b[39;49m\u001b[43mtxPacket\u001b[49m\u001b[43m(\u001b[49m\u001b[43mport\u001b[49m\u001b[43m,\u001b[49m\u001b[43m \u001b[49m\u001b[43mtxpacket\u001b[49m\u001b[43m)\u001b[49m\n\u001b[1;32m    324\u001b[0m \u001b[38;5;28;01mif\u001b[39;00m result \u001b[38;5;241m!=\u001b[39m COMM_SUCCESS:\n\u001b[1;32m    325\u001b[0m     \u001b[38;5;28;01mreturn\u001b[39;00m rxpacket, result, error\n",
      "File \u001b[0;32m/usr/local/lib/python3.10/dist-packages/dynamixel_sdk-3.7.31-py3.10.egg/dynamixel_sdk/protocol2_packet_handler.py:241\u001b[0m, in \u001b[0;36mProtocol2PacketHandler.txPacket\u001b[0;34m(self, port, txpacket)\u001b[0m\n\u001b[1;32m    238\u001b[0m txpacket[total_packet_length \u001b[38;5;241m-\u001b[39m \u001b[38;5;241m1\u001b[39m] \u001b[38;5;241m=\u001b[39m DXL_HIBYTE(crc)\n\u001b[1;32m    240\u001b[0m \u001b[38;5;66;03m# tx packet\u001b[39;00m\n\u001b[0;32m--> 241\u001b[0m \u001b[43mport\u001b[49m\u001b[38;5;241;43m.\u001b[39;49m\u001b[43mclearPort\u001b[49m\u001b[43m(\u001b[49m\u001b[43m)\u001b[49m\n\u001b[1;32m    242\u001b[0m written_packet_length \u001b[38;5;241m=\u001b[39m port\u001b[38;5;241m.\u001b[39mwritePort(txpacket)\n\u001b[1;32m    243\u001b[0m \u001b[38;5;28;01mif\u001b[39;00m total_packet_length \u001b[38;5;241m!=\u001b[39m written_packet_length:\n",
      "File \u001b[0;32m/usr/local/lib/python3.10/dist-packages/dynamixel_sdk-3.7.31-py3.10.egg/dynamixel_sdk/port_handler.py:51\u001b[0m, in \u001b[0;36mPortHandler.clearPort\u001b[0;34m(self)\u001b[0m\n\u001b[1;32m     50\u001b[0m \u001b[38;5;28;01mdef\u001b[39;00m \u001b[38;5;21mclearPort\u001b[39m(\u001b[38;5;28mself\u001b[39m):\n\u001b[0;32m---> 51\u001b[0m     \u001b[38;5;28;43mself\u001b[39;49m\u001b[38;5;241;43m.\u001b[39;49m\u001b[43mser\u001b[49m\u001b[38;5;241;43m.\u001b[39;49m\u001b[43mflush\u001b[49m\u001b[43m(\u001b[49m\u001b[43m)\u001b[49m\n",
      "File \u001b[0;32m/usr/local/lib/python3.10/dist-packages/pyserial-3.5-py3.10.egg/serial/serialposix.py:673\u001b[0m, in \u001b[0;36mSerial.flush\u001b[0;34m(self)\u001b[0m\n\u001b[1;32m    671\u001b[0m \u001b[38;5;28;01mif\u001b[39;00m \u001b[38;5;129;01mnot\u001b[39;00m \u001b[38;5;28mself\u001b[39m\u001b[38;5;241m.\u001b[39mis_open:\n\u001b[1;32m    672\u001b[0m     \u001b[38;5;28;01mraise\u001b[39;00m PortNotOpenError()\n\u001b[0;32m--> 673\u001b[0m \u001b[43mtermios\u001b[49m\u001b[38;5;241;43m.\u001b[39;49m\u001b[43mtcdrain\u001b[49m\u001b[43m(\u001b[49m\u001b[38;5;28;43mself\u001b[39;49m\u001b[38;5;241;43m.\u001b[39;49m\u001b[43mfd\u001b[49m\u001b[43m)\u001b[49m\n",
      "\u001b[0;31merror\u001b[0m: (5, 'Input/output error')"
     ]
    }
   ],
   "source": [
    "shiro.controller()50"
   ]
  },
  {
   "cell_type": "code",
   "execution_count": 3,
   "metadata": {},
   "outputs": [],
   "source": [
    "shiro.set_time(300)\n",
    "r_x1,r_y1,r_z1,r_x2,r_y2,r_z2,r_x3,r_y3,r_z3,r_x4,r_y4,r_z4 = shiro.rotation(0,-10,0)\n",
    "offset_z = 275\n",
    "shiro.move(shiro.move_xyz([+r_x1,   +r_y1,  offset_z+r_z1,\n",
    "                +r_x2,   +r_y2,   offset_z+r_z2,\n",
    "                +r_x3,   +r_y3,   offset_z+r_z3,\n",
    "                +r_x4,   +r_y4,   offset_z+r_z4]))"
   ]
  },
  {
   "cell_type": "code",
   "execution_count": null,
   "metadata": {},
   "outputs": [],
   "source": [
    "shiro.sit()\n",
    "shiro.disable_torque()"
   ]
  },
  {
   "cell_type": "code",
   "execution_count": null,
   "metadata": {},
   "outputs": [],
   "source": [
    "shiro.walk_trot(10,step_time=200,walkingHeight=300,step_length=0)"
   ]
  },
  {
   "cell_type": "code",
   "execution_count": null,
   "metadata": {},
   "outputs": [],
   "source": [
    "shiro.walk_beta(25,step_time=700,tilt=10)"
   ]
  },
  {
   "cell_type": "code",
   "execution_count": null,
   "metadata": {},
   "outputs": [],
   "source": [
    "shiro.walk(20,step_time=500,step_length=50)"
   ]
  },
  {
   "cell_type": "code",
   "execution_count": null,
   "metadata": {},
   "outputs": [],
   "source": [
    "from pynput import keyboard\n",
    "\n",
    "def on_press(key):\n",
    "    try:\n",
    "        print('alphanumeric key {0} pressed'.format(\n",
    "            key.char))\n",
    "    except AttributeError:\n",
    "        print('special key {0} pressed'.format(\n",
    "            key))\n",
    "\n",
    "def on_release(key):\n",
    "    print('{0} released'.format(\n",
    "        key))\n",
    "    if key == keyboard.Key.esc:\n",
    "        # Stop listener\n",
    "        return False\n",
    "\n",
    "# ...or, in a non-blocking fashion:\n",
    "listener = keyboard.Listener(\n",
    "    on_press=on_press,\n",
    "    on_release=on_release)\n",
    "listener.start()\n",
    "        "
   ]
  },
  {
   "cell_type": "code",
   "execution_count": null,
   "metadata": {},
   "outputs": [],
   "source": [
    "from pynput import keyboard\n",
    "import time\n",
    "MODE = 0 # sitting = 0\n",
    "         # standing = 1\n",
    "         # straffing = 2\n",
    "         \n",
    "MOVEMENT = 0 # still = 0\n",
    "             # forward = 1\n",
    "             # backward = 2\n",
    "             # left = 3\n",
    "             # right = 4\n",
    "\n",
    "ESC = 0\n",
    "def on_press(key):\n",
    "    global MODE,MOVEMENT\n",
    "    try:\n",
    "        if key.char == '0':\n",
    "            MODE = 0\n",
    "            MOVEMENT = 0\n",
    "        elif key.char == None:\n",
    "            MODE = 1\n",
    "            MOVEMENT = 0\n",
    "        elif key == keyboard.Key.enter:\n",
    "            MODE = 2\n",
    "            MOVEMENT = 0\n",
    "        elif key.char == '8':\n",
    "            MODE = 2\n",
    "            MOVEMENT = 1\n",
    "        elif key.char == '2':\n",
    "            MODE = 2\n",
    "            MOVEMENT = 2\n",
    "        elif key.char == '4':\n",
    "            MODE = 2\n",
    "            MOVEMENT = 3\n",
    "        elif key.char == '6':\n",
    "            MODE = 2\n",
    "            MOVEMENT = 4\n",
    "        else:\n",
    "            MOVEMENT = 0\n",
    "    except AttributeError:\n",
    "        print('special key {0} pressed'.format(\n",
    "            key))\n",
    "    \n",
    "def on_release(key):\n",
    "    global ESC\n",
    "    if key == keyboard.Key.esc:\n",
    "        print(\"Listner STOPPED!\")\n",
    "        ESC = 1\n",
    "        return False\n",
    "\n",
    "# ...or, in a non-blocking fashion:\n",
    "listener = keyboard.Listener(\n",
    "    on_press=on_press,\n",
    "    on_release=on_release)\n",
    "listener.start()\n",
    "\n",
    "while not ESC:\n",
    "    print(MODE)\n",
    "    time.sleep(1)"
   ]
  }
 ],
 "metadata": {
  "kernelspec": {
   "display_name": "Python 3",
   "language": "python",
   "name": "python3"
  },
  "language_info": {
   "codemirror_mode": {
    "name": "ipython",
    "version": 3
   },
   "file_extension": ".py",
   "mimetype": "text/x-python",
   "name": "python",
   "nbconvert_exporter": "python",
   "pygments_lexer": "ipython3",
   "version": "3.10.12"
  },
  "orig_nbformat": 4
 },
 "nbformat": 4,
 "nbformat_minor": 2
}

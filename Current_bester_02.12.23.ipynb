{
 "cells": [
  {
   "cell_type": "code",
   "execution_count": null,
   "metadata": {},
   "outputs": [],
   "source": [
    "from doggy import Doggy\n",
    "from time import *\n",
    "shiro = Doggy()\n",
    "import pygame\n",
    "\n",
    "shiro.connect()\n",
    "shiro.pid(1900,1000,100)#better\n",
    "# shiro.pid(300,500,100)#worse\n",
    "shiro.enable_torque()\n",
    "shiro.set_time(2000)\n",
    "\n",
    "# #stand\n",
    "i = 250\n",
    "shiro.move(\n",
    "    shiro.move_xyz([0, 0, 240.29325, 0, 0, 251.17325, 0, 0, 253.20225, 0, 0, 249.33125]))\n",
    "# shiro.set_time(2000)\n",
    "# shiro.sit()"
   ]
  },
  {
   "cell_type": "code",
   "execution_count": null,
   "metadata": {},
   "outputs": [],
   "source": [
    "shiro.walk_trot(20,step_time=100,walkingHeight=300,step_length=20,tilt=0) "
   ]
  },
  {
   "cell_type": "code",
   "execution_count": null,
   "metadata": {},
   "outputs": [],
   "source": [
    "# 2.12.2023\n",
    "#take 1\n",
    "# shiro.walk_trot(10,step_time=180,walkingHeight=300,step_length=20)\n",
    "\n",
    "#take 2\n",
    "# shiro.walk_trot(10,step_time=150,walkingHeight=300,step_length=20)\n",
    "\n",
    "#take 3 best\n",
    "# shiro.walk_trot(10,step_time=140,walkingHeight=300,step_length=20)\n",
    "\n",
    "#take 3 \n",
    "# shiro.walk_trot(10,step_time=140,walkingHeight=300,step_length=25) \n",
    "\n",
    "#take 4 bester\n",
    "# shiro.walk_trot(10,step_time=125,walkingHeight=300,step_length=20) \n",
    "\n",
    "#take 5 bestest\n",
    "# shiro.walk_trot(10,step_time=110,walkingHeight=300,step_length=20) \n",
    "\n",
    "#take 6 bestest^2\n",
    "# shiro.walk_trot(10,step_time=100,walkingHeight=300,step_length=20) ----TESTED\n",
    "\n",
    "#new PID values \n",
    "# shiro.pid(1900,1000,50)#better --USE THIS\n"
   ]
  },
  {
   "cell_type": "code",
   "execution_count": null,
   "metadata": {},
   "outputs": [],
   "source": [
    "shiro.sit()\n",
    "shiro.disable_torque()"
   ]
  },
  {
   "cell_type": "code",
   "execution_count": null,
   "metadata": {},
   "outputs": [],
   "source": [
    "# shiro.move(shiro.move_xyz([0, 0, 247.29325, 0, 0, 251.17325, 0, 0, 251.20225, 0, 0, 250.33125]))\n",
    "shiro.move(shiro.move_xyz([0, 0, 247.29325-20, 0, 0, 251.17325, 0, 0, 251.20225, 0, 0, 250.33125-50]))\n",
    "# shiro.move(shiro.move_xyz([0, 0, 247.29325-10, 0, 0, 251.17325, 0, 0, 251.20225, 0, 0, 250.33125-10]))\n",
    "# shiro.move(shiro.move_xyz([0, 0, 247.29325-10, 0, 0, 251.17325, 0, 0, 251.20225, 0, 0, 250.33125]))"
   ]
  },
  {
   "cell_type": "code",
   "execution_count": null,
   "metadata": {},
   "outputs": [],
   "source": [
    "shiro.walk_trot(10,step_time=200,walkingHeight=300,step_length=0)"
   ]
  },
  {
   "cell_type": "code",
   "execution_count": null,
   "metadata": {},
   "outputs": [],
   "source": [
    "shiro.walk_beta(25,step_time=700,tilt=10)"
   ]
  },
  {
   "cell_type": "code",
   "execution_count": null,
   "metadata": {},
   "outputs": [],
   "source": [
    "shiro.walk(20,step_time=500,step_length=50)"
   ]
  },
  {
   "cell_type": "code",
   "execution_count": null,
   "metadata": {},
   "outputs": [],
   "source": [
    "from numpy import *\n",
    "t=0\n",
    "while 1:\n",
    "    if t >= 4:\n",
    "        t = t%4\n",
    "    X = 0\n",
    "    if t <= 3:\n",
    "        Z = 0\n",
    "        Y = interp(t,[0,3],[50,-50])\n",
    "    if t > 3 and t < 4:\n",
    "        Y = 0\n",
    "        Z = -50\n",
    "    t+=0.5\n",
    "    print( int(X),int(Y),int(Z))"
   ]
  }
 ],
 "metadata": {
  "kernelspec": {
   "display_name": "Python 3",
   "language": "python",
   "name": "python3"
  },
  "language_info": {
   "codemirror_mode": {
    "name": "ipython",
    "version": 3
   },
   "file_extension": ".py",
   "mimetype": "text/x-python",
   "name": "python",
   "nbconvert_exporter": "python",
   "pygments_lexer": "ipython3",
   "version": "3.8.3"
  },
  "orig_nbformat": 4
 },
 "nbformat": 4,
 "nbformat_minor": 2
}

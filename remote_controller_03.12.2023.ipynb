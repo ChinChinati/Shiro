{
 "cells": [
  {
   "cell_type": "code",
   "execution_count": 2,
   "metadata": {},
   "outputs": [
    {
     "name": "stdout",
     "output_type": "stream",
     "text": [
      "Succeeded to change the baudrate\n",
      "Succeeded to open the port\n",
      "[1, 2, 3, 4, 5, 6, 7, 8, 9, 10, 11, 12]\n",
      "Connection successful\n",
      "Dynamixel#1 has been successfully connected\n",
      "Dynamixel#2 has been successfully connected\n",
      "Dynamixel#3 has been successfully connected\n",
      "Dynamixel#4 has been successfully connected\n",
      "Dynamixel#5 has been successfully connected\n",
      "Dynamixel#6 has been successfully connected\n",
      "Dynamixel#7 has been successfully connected\n",
      "Dynamixel#8 has been successfully connected\n",
      "Dynamixel#9 has been successfully connected\n",
      "Dynamixel#10 has been successfully connected\n",
      "Dynamixel#11 has been successfully connected\n",
      "Dynamixel#12 has been successfully connected\n"
     ]
    }
   ],
   "source": [
    "from doggy import Doggy\n",
    "import pygame\n",
    "from time import *\n",
    "shiro = Doggy()\n",
    "\n",
    "\n",
    "shiro.connect()\n",
    "shiro.pid(1500,800,500)#best till 03.12.2023\n",
    "shiro.enable_torque()\n",
    "shiro.set_time(2000)\n",
    "\n",
    "# #stand\n",
    "i = 250\n",
    "shiro.move(\n",
    "    shiro.move_xyz([0, 0, 240.29325, 0, 0, 251.17325, 0, 0, 253.20225, 0, 0, 249.33125]))\n",
    "# shiro.set_time(2000)\n",
    "# shiro.sit()"
   ]
  },
  {
   "cell_type": "code",
   "execution_count": 3,
   "metadata": {},
   "outputs": [
    {
     "name": "stdout",
     "output_type": "stream",
     "text": [
      "Dynamixel#1 has been successfully connected\n",
      "Dynamixel#2 has been successfully connected\n",
      "Dynamixel#3 has been successfully connected\n",
      "Dynamixel#4 has been successfully connected\n",
      "Dynamixel#5 has been successfully connected\n",
      "Dynamixel#6 has been successfully connected\n",
      "Dynamixel#7 has been successfully connected\n",
      "Dynamixel#8 has been successfully connected\n",
      "Dynamixel#9 has been successfully connected\n",
      "Dynamixel#10 has been successfully connected\n",
      "Dynamixel#11 has been successfully connected\n",
      "Dynamixel#12 has been successfully connected\n",
      "special key Key.esc pressed\n",
      "Listner STOPPED!\n",
      "Angle 3 exceeded limit\n",
      "Angle 6 exceeded limit\n",
      "Angle 9 exceeded limit\n",
      "Angle 12 exceeded limit\n",
      "Done\n"
     ]
    }
   ],
   "source": [
    "shiro.controller()"
   ]
  },
  {
   "cell_type": "code",
   "execution_count": null,
   "metadata": {},
   "outputs": [],
   "source": [
    "shiro.sit()\n",
    "shiro.disable_torque()"
   ]
  }
 ],
 "metadata": {
  "kernelspec": {
   "display_name": "Python 3",
   "language": "python",
   "name": "python3"
  },
  "language_info": {
   "codemirror_mode": {
    "name": "ipython",
    "version": 3
   },
   "file_extension": ".py",
   "mimetype": "text/x-python",
   "name": "python",
   "nbconvert_exporter": "python",
   "pygments_lexer": "ipython3",
   "version": "3.10.12"
  },
  "orig_nbformat": 4
 },
 "nbformat": 4,
 "nbformat_minor": 2
}
